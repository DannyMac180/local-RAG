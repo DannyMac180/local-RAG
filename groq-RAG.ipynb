{
 "cells": [
  {
   "cell_type": "markdown",
   "metadata": {},
   "source": [
    "# Import libraries"
   ]
  },
  {
   "cell_type": "code",
   "execution_count": 1,
   "metadata": {},
   "outputs": [
    {
     "data": {
      "text/plain": [
       "True"
      ]
     },
     "execution_count": 1,
     "metadata": {},
     "output_type": "execute_result"
    }
   ],
   "source": [
    "from dotenv import load_dotenv\n",
    "import os\n",
    "from langchain_groq import ChatGroq\n",
    "from langchain import hub\n",
    "from langchain_community.document_loaders import ObsidianLoader\n",
    "from langchain.text_splitter import RecursiveCharacterTextSplitter\n",
    "from langchain_community.vectorstores import Chroma\n",
    "from langchain_openai import OpenAIEmbeddings\n",
    "from langchain_core.runnables import RunnablePassthrough, RunnableParallel\n",
    "from langchain_core.output_parsers import StrOutputParser\n",
    "\n",
    "load_dotenv()"
   ]
  },
  {
   "cell_type": "markdown",
   "metadata": {},
   "source": [
    "# Set variables"
   ]
  },
  {
   "cell_type": "code",
   "execution_count": 2,
   "metadata": {},
   "outputs": [],
   "source": [
    "openai_api_key = os.getenv(\"OPENAI_API_KEY\")\n",
    "groq_api_key = os.getenv(\"GROQ_API_KEY\")\n",
    "langchain_api_key = os.getenv(\"LANGCHAIN_API_KEY\")\n",
    "os.environ[\"LANGCHAIN_TRACING_V2\"] = \"true\""
   ]
  },
  {
   "cell_type": "markdown",
   "metadata": {},
   "source": [
    "# Load, split and store embeddings"
   ]
  },
  {
   "cell_type": "code",
   "execution_count": 3,
   "metadata": {},
   "outputs": [],
   "source": [
    "loader = ObsidianLoader(\"/Users/danielmcateer/Library/Mobile Documents/iCloud~md~obsidian/Documents/Ideaverse\")\n",
    "\n",
    "docs = loader.load()\n",
    "\n",
    "text_splitter = RecursiveCharacterTextSplitter(chunk_size=1000, chunk_overlap=200)\n",
    "splits = text_splitter.split_documents(docs)\n",
    "vectorstore = Chroma.from_documents(documents=splits, embedding=OpenAIEmbeddings())"
   ]
  },
  {
   "cell_type": "markdown",
   "metadata": {},
   "source": [
    "# Retrieve and generate using the relevant notes from Obsidian"
   ]
  },
  {
   "cell_type": "code",
   "execution_count": 4,
   "metadata": {},
   "outputs": [],
   "source": [
    "retriever = vectorstore.as_retriever()\n",
    "prompt = hub.pull(\"rlm/rag-prompt\")\n",
    "llm = ChatGroq(temperature=0.5, groq_api_key=groq_api_key, model_name=\"mixtral-8x7b-32768\")"
   ]
  },
  {
   "cell_type": "markdown",
   "metadata": {},
   "source": [
    "# Run RAG chain using LangChain"
   ]
  },
  {
   "cell_type": "code",
   "execution_count": 5,
   "metadata": {},
   "outputs": [],
   "source": [
    "def format_docs(docs):\n",
    "    return \"\\n\\n\".join(doc.page_content for doc in docs)\n",
    "\n",
    "\n",
    "rag_chain_from_docs = (\n",
    "    RunnablePassthrough.assign(context=(lambda x: format_docs(x[\"context\"])))\n",
    "    | prompt\n",
    "    | llm\n",
    "    | StrOutputParser()\n",
    ")\n",
    "\n",
    "rag_chain_with_source = RunnableParallel(\n",
    "    {\"context\": retriever, \"question\": RunnablePassthrough()}\n",
    ").assign(answer=rag_chain_from_docs)"
   ]
  },
  {
   "cell_type": "markdown",
   "metadata": {},
   "source": [
    "# Get a response from the RAG chain"
   ]
  },
  {
   "cell_type": "code",
   "execution_count": 7,
   "metadata": {},
   "outputs": [
    {
     "name": "stdout",
     "output_type": "stream",
     "text": [
      "\n",
      "\n",
      "question: Based on the ideas I've explored in my notes, I'm thinking about the following question: what would be interesting topics of study to pursue next?\n",
      "\n",
      "context: [Document(page_content=\"Prompt: Use the content of my notes to formulate a coherent worldview of how I see the world. Pick out the most often mentioned perspectives that I've written about\\n\\nBased on your notes, your worldview seems to be centered around the following perspectives:\\n\\n1. **Human Mind and Consciousness**: You view the human mind as a powerful force of nature, akin to the heart's role in the body (#1). You believe in the existence of an informational layer of humanity, a collective stream of consciousness shared through the internet, which represents a new evolutionary stage (#2). You also hold that the mind is a tool for humanity, capable of creating the world we desire, but also capable of becoming our worst enemy if misused (#3, #12).\", metadata={'created': 1709580839.2910812, 'last_accessed': 1709583844.7909665, 'last_modified': 1709580409.0, 'path': '/Users/danielmcateer/Library/Mobile Documents/iCloud~md~obsidian/Documents/Ideaverse/ideaverse/Zettelkasten/Permanent Notes/Worldview.md', 'source': 'Worldview.md'}), Document(page_content=\"Prompt: Use the content of my notes to formulate a coherent worldview of how I see the world. Pick out the most often mentioned perspectives that I've written about\\n\\nBased on your notes, your worldview seems to be centered around the following perspectives:\\n\\n1. **Human Mind and Consciousness**: You view the human mind as a powerful force of nature, akin to the heart's role in the body (#1). You believe in the existence of an informational layer of humanity, a collective stream of consciousness shared through the internet, which represents a new evolutionary stage (#2). You also hold that the mind is a tool for humanity, capable of creating the world we desire, but also capable of becoming our worst enemy if misused (#3, #12).\", metadata={'created': 1709090687.4134765, 'last_accessed': 1709158969.0821402, 'last_modified': 1707333587.0, 'path': '/Users/danielmcateer/Library/Mobile Documents/iCloud~md~obsidian/Documents/Ideaverse/Zettelkasten/Permanent Notes/Worldview.md', 'source': 'Worldview.md'}), Document(page_content='Based on your notes, the philosophical themes and original ideas can be categorized and assessed as follows:\\n\\n**Categorization:**\\n\\n1. **Metaphysics and Consciousness**: Notes #1, #4, #18, #19, #30 focus on the nature of consciousness, its primacy over the physical world, and its evolutionary development into an informational layer. This category also includes the idea of consciousness as a tool for understanding reality (#10, #14).\\n\\n2. **Epistemology and AI**: Notes #2, #3, #8, #9, #11, #13, #22, #28 explore the capabilities and limitations of human intelligence versus artificial intelligence, the role of AI in expanding human cognition, and the potential for AI to assist in self-understanding.\\n\\n3. **Ethics and Technology**: Notes #7, #10, #13, #21, #23, #24, #25, #26 discuss the ethical implications of technology, particularly AI, and its relationship with human values such as wisdom, responsibility, and suffering.', metadata={'created': 1709581247.441547, 'last_accessed': 1709744650.5628138, 'last_modified': 1709580409.0, 'path': '/Users/danielmcateer/Library/Mobile Documents/iCloud~md~obsidian/Documents/Ideaverse/ideaverse/Zettelkasten/Permanent Notes/Worldview 2.md', 'source': 'Worldview 2.md'}), Document(page_content='Based on your notes, the philosophical themes and original ideas can be categorized and assessed as follows:\\n\\n**Categorization:**\\n\\n1. **Metaphysics and Consciousness**: Notes #1, #4, #18, #19, #30 focus on the nature of consciousness, its primacy over the physical world, and its evolutionary development into an informational layer. This category also includes the idea of consciousness as a tool for understanding reality (#10, #14).\\n\\n2. **Epistemology and AI**: Notes #2, #3, #8, #9, #11, #13, #22, #28 explore the capabilities and limitations of human intelligence versus artificial intelligence, the role of AI in expanding human cognition, and the potential for AI to assist in self-understanding.\\n\\n3. **Ethics and Technology**: Notes #7, #10, #13, #21, #23, #24, #25, #26 discuss the ethical implications of technology, particularly AI, and its relationship with human values such as wisdom, responsibility, and suffering.', metadata={'created': 1709090687.4137013, 'last_accessed': 1709680420.510656, 'last_modified': 1707359910.69821, 'path': '/Users/danielmcateer/Library/Mobile Documents/iCloud~md~obsidian/Documents/Ideaverse/Zettelkasten/Permanent Notes/Worldview 2.md', 'source': 'Worldview 2.md'})]\n",
      "\n",
      "answer: Based on your notes, interesting topics of study could include:\n",
      "\n",
      "1. The nature of consciousness and its relationship with the physical world (Metaphysics and Consciousness).\n",
      "2. The exploration of human intelligence versus artificial intelligence, and their roles in expanding cognition and self-understanding (Epistemology and AI).\n",
      "3. The ethical implications of technology, particularly AI, and its relationship with human values such as wisdom, responsibility, and suffering (Ethics and Technology).{'question': \"Based on the ideas I've explored in my notes, I'm thinking about the following question: what would be interesting topics of study to pursue next?\", 'context': [Document(page_content=\"Prompt: Use the content of my notes to formulate a coherent worldview of how I see the world. Pick out the most often mentioned perspectives that I've written about\\n\\nBased on your notes, your worldview seems to be centered around the following perspectives:\\n\\n1. **Human Mind and Consciousness**: You view the human mind as a powerful force of nature, akin to the heart's role in the body (#1). You believe in the existence of an informational layer of humanity, a collective stream of consciousness shared through the internet, which represents a new evolutionary stage (#2). You also hold that the mind is a tool for humanity, capable of creating the world we desire, but also capable of becoming our worst enemy if misused (#3, #12).\", metadata={'created': 1709580839.2910812, 'last_accessed': 1709583844.7909665, 'last_modified': 1709580409.0, 'path': '/Users/danielmcateer/Library/Mobile Documents/iCloud~md~obsidian/Documents/Ideaverse/ideaverse/Zettelkasten/Permanent Notes/Worldview.md', 'source': 'Worldview.md'}), Document(page_content=\"Prompt: Use the content of my notes to formulate a coherent worldview of how I see the world. Pick out the most often mentioned perspectives that I've written about\\n\\nBased on your notes, your worldview seems to be centered around the following perspectives:\\n\\n1. **Human Mind and Consciousness**: You view the human mind as a powerful force of nature, akin to the heart's role in the body (#1). You believe in the existence of an informational layer of humanity, a collective stream of consciousness shared through the internet, which represents a new evolutionary stage (#2). You also hold that the mind is a tool for humanity, capable of creating the world we desire, but also capable of becoming our worst enemy if misused (#3, #12).\", metadata={'created': 1709090687.4134765, 'last_accessed': 1709158969.0821402, 'last_modified': 1707333587.0, 'path': '/Users/danielmcateer/Library/Mobile Documents/iCloud~md~obsidian/Documents/Ideaverse/Zettelkasten/Permanent Notes/Worldview.md', 'source': 'Worldview.md'}), Document(page_content='Based on your notes, the philosophical themes and original ideas can be categorized and assessed as follows:\\n\\n**Categorization:**\\n\\n1. **Metaphysics and Consciousness**: Notes #1, #4, #18, #19, #30 focus on the nature of consciousness, its primacy over the physical world, and its evolutionary development into an informational layer. This category also includes the idea of consciousness as a tool for understanding reality (#10, #14).\\n\\n2. **Epistemology and AI**: Notes #2, #3, #8, #9, #11, #13, #22, #28 explore the capabilities and limitations of human intelligence versus artificial intelligence, the role of AI in expanding human cognition, and the potential for AI to assist in self-understanding.\\n\\n3. **Ethics and Technology**: Notes #7, #10, #13, #21, #23, #24, #25, #26 discuss the ethical implications of technology, particularly AI, and its relationship with human values such as wisdom, responsibility, and suffering.', metadata={'created': 1709581247.441547, 'last_accessed': 1709744650.5628138, 'last_modified': 1709580409.0, 'path': '/Users/danielmcateer/Library/Mobile Documents/iCloud~md~obsidian/Documents/Ideaverse/ideaverse/Zettelkasten/Permanent Notes/Worldview 2.md', 'source': 'Worldview 2.md'}), Document(page_content='Based on your notes, the philosophical themes and original ideas can be categorized and assessed as follows:\\n\\n**Categorization:**\\n\\n1. **Metaphysics and Consciousness**: Notes #1, #4, #18, #19, #30 focus on the nature of consciousness, its primacy over the physical world, and its evolutionary development into an informational layer. This category also includes the idea of consciousness as a tool for understanding reality (#10, #14).\\n\\n2. **Epistemology and AI**: Notes #2, #3, #8, #9, #11, #13, #22, #28 explore the capabilities and limitations of human intelligence versus artificial intelligence, the role of AI in expanding human cognition, and the potential for AI to assist in self-understanding.\\n\\n3. **Ethics and Technology**: Notes #7, #10, #13, #21, #23, #24, #25, #26 discuss the ethical implications of technology, particularly AI, and its relationship with human values such as wisdom, responsibility, and suffering.', metadata={'created': 1709090687.4137013, 'last_accessed': 1709680420.510656, 'last_modified': 1707359910.69821, 'path': '/Users/danielmcateer/Library/Mobile Documents/iCloud~md~obsidian/Documents/Ideaverse/Zettelkasten/Permanent Notes/Worldview 2.md', 'source': 'Worldview 2.md'})], 'answer': 'Based on your notes, interesting topics of study could include:\\n\\n1. The nature of consciousness and its relationship with the physical world (Metaphysics and Consciousness).\\n2. The exploration of human intelligence versus artificial intelligence, and their roles in expanding cognition and self-understanding (Epistemology and AI).\\n3. The ethical implications of technology, particularly AI, and its relationship with human values such as wisdom, responsibility, and suffering (Ethics and Technology).'}\n"
     ]
    }
   ],
   "source": [
    "output = {}\n",
    "curr_key = None\n",
    "for chunk in rag_chain_with_source.stream(\"Based on the ideas I've explored in my notes, I'm thinking about the following question: what would be interesting topics of study to pursue next?\"):\n",
    "    for key in chunk:\n",
    "        if key not in output:\n",
    "            output[key] = chunk[key]\n",
    "        else:\n",
    "            output[key] += chunk[key]\n",
    "        if key != curr_key:\n",
    "            print(f\"\\n\\n{key}: {chunk[key]}\", end=\"\", flush=True)\n",
    "        else:\n",
    "            print(chunk[key], end=\"\", flush=True)\n",
    "        curr_key = key\n",
    "print(output)"
   ]
  },
  {
   "cell_type": "markdown",
   "metadata": {},
   "source": [
    "# Cleanup"
   ]
  },
  {
   "cell_type": "code",
   "execution_count": 8,
   "metadata": {},
   "outputs": [],
   "source": [
    "vectorstore.delete_collection()"
   ]
  }
 ],
 "metadata": {
  "kernelspec": {
   "display_name": "local-RAG",
   "language": "python",
   "name": "python3"
  },
  "language_info": {
   "codemirror_mode": {
    "name": "ipython",
    "version": 3
   },
   "file_extension": ".py",
   "mimetype": "text/x-python",
   "name": "python",
   "nbconvert_exporter": "python",
   "pygments_lexer": "ipython3",
   "version": "3.11.8"
  }
 },
 "nbformat": 4,
 "nbformat_minor": 2
}
